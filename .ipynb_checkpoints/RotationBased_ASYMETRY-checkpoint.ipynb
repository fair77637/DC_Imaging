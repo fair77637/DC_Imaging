{
 "cells": [
  {
   "cell_type": "code",
   "execution_count": 17,
   "metadata": {
    "collapsed": true
   },
   "outputs": [],
   "source": [
    "import NewCore\n",
    "import os\n",
    "os.chdir('/Volumes/FAIR/DC-Image-Analysis/DC-project-master/cleancode/NewMidplane')\n",
    "import Functions\n",
    "import numpy as np\n",
    "import SimpleITK as sitk\n",
    "import matplotlib.pyplot as plt\n",
    "\n",
    "from scipy.ndimage.morphology import binary_opening as bo\n",
    "from scipy.ndimage.morphology import binary_erosion as be\n",
    "from scipy.ndimage.morphology import binary_closing as bc\n",
    "from scipy.ndimage.morphology import binary_fill_holes as bfh\n",
    "\n",
    "from ipywidgets import interact, fixed\n",
    "from IPython.display import display\n",
    "\n",
    "def wl_to_lh(window, level):\n",
    "    low = level - window/2\n",
    "    high = level + window/2\n",
    "    return low,high\n",
    "\n",
    "import skimage\n",
    "from skimage import filters\n",
    "\n",
    "def display_image(img, x=None, y=None, z=None, window=None, level=None):\n",
    "    # Convert SimpleITK image to NumPy array\n",
    "    img_array = sitk.GetArrayFromImage(img)\n",
    "    \n",
    "    # Get image dimensions in millimetres\n",
    "    size = img.GetSize()\n",
    "    spacing = img.GetSpacing()\n",
    "    width  = size[0] * spacing[0]\n",
    "    height = size[1] * spacing[1]\n",
    "    depth  = size[2] * spacing[2]\n",
    "    \n",
    "    if x is None:\n",
    "        x = np.floor(size[0]/2).astype(int)\n",
    "    if y is None:\n",
    "        y = np.floor(size[1]/2).astype(int)\n",
    "    if z is None:\n",
    "        z = np.floor(size[2]/2).astype(int)\n",
    "    \n",
    "    if window is None:\n",
    "        window = np.max(img_array) - np.min(img_array)\n",
    "    \n",
    "    if level is None:\n",
    "        level = window / 2 + np.min(img_array)\n",
    "    \n",
    "    low,high = wl_to_lh(window,level)\n",
    "\n",
    "    # Display the orthogonal slices\n",
    "    fig, (ax1, ax2, ax3) = plt.subplots(1, 3, figsize=(15, 5))\n",
    "\n",
    "    ax1.imshow(img_array[z,:,:], cmap='gray', clim=(low, high), extent=(0, width, height, 0))\n",
    "    ax2.imshow(img_array[:,y,:], origin='lower', cmap='gray', clim=(low, high), extent=(0, width,  0, depth))\n",
    "    ax3.imshow(img_array[:,:,x], origin='lower', cmap='gray', clim=(low, high), extent=(0, height, 0, depth))\n",
    "\n",
    "    # Additionally display crosshairs\n",
    "    ax1.axhline(y * spacing[1], lw=1)\n",
    "    ax1.axvline(x * spacing[0], lw=1)\n",
    "    \n",
    "    ax2.axhline(z * spacing[2], lw=1)\n",
    "    ax2.axvline(x * spacing[0], lw=1)\n",
    "    \n",
    "    ax3.axhline(z * spacing[2], lw=1)\n",
    "    ax3.axvline(y * spacing[1], lw=1)\n",
    "\n",
    "    plt.show()\n",
    "    \n",
    "def displayMask(array,ConstPixelSpacing,x, y, z):\n",
    "    # Display the orthogonal slices\n",
    "    fig, (ax1, ax2, ax3) = plt.subplots(1, 3, figsize=(15, 5))\n",
    "\n",
    "    ax1.imshow(array[x,:,:])\n",
    "    ax2.imshow(array[:,y,:])\n",
    "    ax3.imshow(array[:,:,z])\n",
    "\n",
    "    # Additionally display crosshairs\n",
    "    ax1.axhline(y * ConstPixelSpacing[1], lw=1)\n",
    "    ax1.axvline(x * ConstPixelSpacing[0], lw=1)\n",
    "\n",
    "    ax2.axhline(z * ConstPixelSpacing[2], lw=1)\n",
    "    ax2.axvline(x * ConstPixelSpacing[0], lw=1)\n",
    "\n",
    "    ax3.axhline(z * ConstPixelSpacing[2], lw=1)\n",
    "    ax3.axvline(y * ConstPixelSpacing[1], lw=1)\n",
    "\n",
    "    plt.show()\n",
    "    \n",
    "\n",
    "from scipy.ndimage.morphology import binary_opening as bo\n",
    "from scipy.ndimage.morphology import binary_erosion as be\n",
    "from scipy.ndimage.morphology import binary_closing as bc\n",
    "from scipy.ndimage.morphology import binary_fill_holes as bfh\n",
    "from scipy.ndimage.morphology import binary_dilation as bd\n",
    "\n",
    "\n",
    "def distribution(array):\n",
    "    \n",
    "    # Get the number of points\n",
    "    X = array[array != 0].flatten().reshape(-1,1)\n",
    "    num_pts = len(X.flatten())\n",
    "\n",
    "    # Extract the minimum and maximum intensity values and calculate the number of bins for the histogram\n",
    "    lim_low = np.min(X)\n",
    "    lim_high = np.max(X)\n",
    "    # num_bins = (lim_high - lim_low + 1)\n",
    "    num_bins = 50\n",
    "\n",
    "    plt.figure(figsize=(10, 4), dpi=100)\n",
    "    plt.hist(X, bins=num_bins, normed=True, range=(lim_low, lim_high), color='lightgray');\n",
    "    plt.xlim([lim_low,lim_high]); # we limit the x-axis to the range of interest\n",
    "    plt.show()\n",
    "\n",
    "    print('Number of points ' + str(num_pts))"
   ]
  },
  {
   "cell_type": "code",
   "execution_count": 11,
   "metadata": {},
   "outputs": [
    {
     "name": "stdout",
     "output_type": "stream",
     "text": [
      "Reading Dicom directory: /Users/fair00542/Desktop/TestImages/ScanF/ScanF\n"
     ]
    }
   ],
   "source": [
    "paths =['/MachineLearning/python tutorials/tutorial3/',\n",
    "        '/Volumes/FAIR/Sinead/DC-Project-Images/original/Sample3/',\n",
    "        '/Volumes/FAIR/Sinead/DC-Project-Images/original/Sample6/',\n",
    "         '/Volumes/FAIR/Sinead/DC-Project-Images/original/Sample4/',\n",
    "         '/Volumes/FAIR/Sinead/DC-Project-Images/original/Sample5/S5_Pre_rigid.nrrd',\n",
    "         '/Users/fair00542/Desktop/TestImages/ScanB/ScanB',\n",
    "         '/Users/fair00542/Desktop/TestImages/ScanF/ScanF']\n",
    "\n",
    "print( \"Reading Dicom directory:\", paths[6])\n",
    "path = paths[6]\n",
    "\n",
    "# if Dicom\n",
    "# reader = sitk.ImageSeriesReader()\n",
    "# dicom_names = reader.GetGDCMSeriesFileNames(path)\n",
    "# reader.SetFileNames(dicom_names)\n",
    "# img = reader.Execute()\n",
    "# img = sitk.ReadImage(dicom_names)\n",
    "# msk = sitk.ReadImage(path + '/opt_foramen_cut.nii.gz')\n",
    "\n",
    "img = sitk.ReadImage(path + '/New_MP.nii.gz')\n",
    "img_array = sitk.GetArrayFromImage(img)\n",
    "array = np.swapaxes(img_array,0,2)\n",
    "ConstPixelSpacing = img.GetSpacing()\n",
    "\n",
    "mask = sitk.ReadImage(path + '/SEG5.nii.gz')\n",
    "Mask_array = sitk.GetArrayFromImage(mask)\n",
    "Mask_array = np.swapaxes(Mask_array,0,2)\n",
    "\n",
    "#Import ideal midplane parameters\n",
    "paras = np.load('/Volumes/FAIR/DC-Image-Analysis/DC-project-master/cleancode/NewMidplane/Final_preop.npy')\n",
    "pa = np.load('/Volumes/FAIR/DC-Image-Analysis/DC-project-master/cleancode/NewMidplane/tutorial3.npy')\n",
    "\n",
    "# print('CT image')\n",
    "# display_image(img, x=200, y=200, z=100, window=120, level=40)\n",
    "\n",
    "# print('Brain mask')\n",
    "# display_image(msk, x=200, y=200, z=100)"
   ]
  },
  {
   "cell_type": "markdown",
   "metadata": {},
   "source": [
    "# Find the right mask"
   ]
  },
  {
   "cell_type": "code",
   "execution_count": 7,
   "metadata": {
    "collapsed": true
   },
   "outputs": [],
   "source": [
    "ROI_array = np.zeros(Mask_array.shape)\n",
    "ROI_array[Mask_array == 1] = 1\n",
    "ROI_array[Mask_array == 3] = 1\n",
    "# ROI_array[Mask_array == 5] = 1\n",
    "# label 4 and 3 are haematoma\n",
    "# H_mask = ROI_array\n",
    "\n",
    "B_mask = ROI_array\n",
    "# # V_mask1 = be(V_mask,structure = np.ones((2,2,1))).astype(V_mask.dtype)\n",
    "\n",
    "\n",
    "B_mask1 = bc(bc(B_mask)).astype(B_mask.dtype)\n",
    "B_mask2 = bfh(B_mask1).astype(B_mask.dtype)\n",
    "\n"
   ]
  },
  {
   "cell_type": "code",
   "execution_count": 16,
   "metadata": {},
   "outputs": [
    {
     "data": {
      "image/png": "[encoded data removed]",
      "text/plain": [
       "<matplotlib.figure.Figure at 0x194d95ba8>"
      ]
     },
     "metadata": {},
     "output_type": "display_data"
    }
   ],
   "source": [
    "x,y,z = 200,300,100\n",
    "# Display the orthogonal slices\n",
    "fig, (ax1, ax2, ax3) = plt.subplots(1, 3, figsize=(15, 5))\n",
    "\n",
    "ax1.imshow(Mask_array[x,:,:])\n",
    "ax2.imshow(Mask_array[:,y,:])\n",
    "ax3.imshow(Mask_array[:,:,z])\n",
    "\n",
    "# Additionally display crosshairs\n",
    "ax1.axhline(y * ConstPixelSpacing[1], lw=1)\n",
    "ax1.axvline(x * ConstPixelSpacing[0], lw=1)\n",
    "\n",
    "ax2.axhline(z * ConstPixelSpacing[2], lw=1)\n",
    "ax2.axvline(x * ConstPixelSpacing[0], lw=1)\n",
    "\n",
    "ax3.axhline(z * ConstPixelSpacing[2], lw=1)\n",
    "ax3.axvline(y * ConstPixelSpacing[1], lw=1)\n",
    "\n",
    "plt.show()"
   ]
  },
  {
   "cell_type": "code",
   "execution_count": 3,
   "metadata": {},
   "outputs": [
    {
     "data": {
      "text/plain": [
       "array([b'ScanF', b'0.936545076517', b'0.255291612197', b'-0.240228042477',\n",
       "       b'284.921196883'],\n",
       "      dtype='|S17')"
      ]
     },
     "execution_count": 3,
     "metadata": {},
     "output_type": "execute_result"
    }
   ],
   "source": [
    "paras[15]"
   ]
  },
  {
   "cell_type": "code",
   "execution_count": 66,
   "metadata": {},
   "outputs": [
    {
     "name": "stdout",
     "output_type": "stream",
     "text": [
      "b'ScanF' 0.936545076517 0.255291612197 -0.240228042477 284.921196883 /Users/fair00542/Desktop/TestImages/ScanF/ScanF\n"
     ]
    }
   ],
   "source": [
    "# paras = np.load('/Volumes/FAIR/DC-Image-Analysis/DC-project-master/cleancode/NewMidplane/Final_preop.npy')\n",
    "file, a, b, c, d = paras[15]\n",
    "a, b, c, d = a.astype(float),b.astype(float),c.astype(float),d.astype(float)\n",
    "v = np.array((a,b,c))\n",
    "v = v.astype(float)\n",
    "print(file, a, b, c, d, path)\n",
    "\n",
    "# midplane normal vector regulate the direction\n",
    "if a<0:\n",
    "    a,b,c,d = a*-1,b*-1,c*-1,d*-1\n",
    "n = np.array((a,b,c))\n",
    "\n",
    "#define rotation axis in plane, in z direction correlates to skew angle\n",
    "from sympy import *\n",
    "import sympy\n",
    "x = sympy.symbols('x')\n",
    "x1 = solve(a*x + b*100 + c*0 - d, x)\n",
    "x2 = solve(a*x + b*100 + c*100 - d, x)\n",
    "k = np.array((x1[0]-x2[0],0,-100)).astype(float)\n",
    "# k = k/np.sqrt((k[0]**2 + k[1]**2 + k[2]**2))\n",
    "vk_unit = Functions.unit_vector(k)\n",
    "vk_unit\n",
    "\n",
    "## Define rotation axis in y direction, correlating to the orientation angle\n",
    "x = sympy.symbols('x')\n",
    "x3 = solve(a*x + b*0.0 + c*100.0- d, x)\n",
    "x4 = solve(a*x + b*100.0 + c*100.0 - d, x)\n",
    "\n",
    "k2 = np.array((x3[0]-x4[0],-100.0,0.0)).astype(float)\n",
    "vk2_unit = Functions.unit_vector(k2)\n",
    "# the new_vk corresponds to the reshaped version of array, as displayed in ITK\n",
    "# new_vk = Functions.unit_vector(vk_unit*ConstPixelSpacing)\n",
    "vk2_unit\n",
    "\n",
    "#the orientation angle\n",
    "yaxis = np.array((0,1,0))\n",
    "angle_ori = Functions.ang(vk2_unit,yaxis)\n",
    "zaxis = np.array((0,0,1))\n",
    "# angle_skew = Functions.ang(new_vk,zaxis)\n",
    "angle_skew = Functions.ang(vk_unit,zaxis)\n",
    "\n",
    "# Convert to degrees\n",
    "# The skew angle \n",
    "A_S = 180.0 - angle_skew/np.pi*180.0\n",
    "# The orientation angle\n",
    "A_O = 180.0 - angle_ori/np.pi*180.0\n",
    "\n",
    "if vk2_unit[0]*vk2_unit[1] < 0.0:\n",
    "    A_O = -1*A_O\n",
    "    \n",
    "if vk_unit[0]*vk_unit[2] < 0.0:\n",
    "    A_S = -1*A_S\n",
    "    \n",
    "# Calculate the x-coordinate of the miplane, should be a uniform value\n",
    "\n",
    "# Constant mode rotation, points outside the boundaries of the input \n",
    "# are filled with constant 0.0. If points\n",
    "\n",
    "from scipy.ndimage.interpolation import rotate\n",
    "r_IML = rotate(Ideal_ML,A_O,mode='constant',axes=(0,1))\n",
    "r2_IML = rotate(r_IML,A_S,mode='constant',axes=(0,2))\n",
    "\n",
    "r_DML = rotate(Deformed_ML,A_O,mode='constant',axes=(0,1))\n",
    "r2_DML = rotate(r_DML,A_S,mode='constant',axes=(0,2))"
   ]
  },
  {
   "cell_type": "code",
   "execution_count": 67,
   "metadata": {},
   "outputs": [
    {
     "data": {
      "text/plain": [
       "(106799741, 106799741)"
      ]
     },
     "execution_count": 67,
     "metadata": {},
     "output_type": "execute_result"
    }
   ],
   "source": [
    "# Somehow the rotated mask is not binary, needs clarification.\n",
    "Binary_Mask = np.zeros(r2_DML.shape)\n",
    "Binary_Mask[np.abs(r2_DML)>0.]=1\n",
    "\n",
    "# Adjust the threshold level until the number of active pixels become approximately the same\n",
    "np.sum(np.nonzero(r2_DML)),np.sum(np.nonzero(Binary_Mask)),"
   ]
  },
  {
   "cell_type": "code",
   "execution_count": 68,
   "metadata": {
    "collapsed": true
   },
   "outputs": [],
   "source": [
    "x1,y1,z1 = np.nonzero(Binary_Mask)\n",
    "# x1,y1,z1 = x*ConstPixelSpacing[0],y*ConstPixelSpacing[1],z*ConstPixelSpacing[2]\n",
    "y1 = y1.astype(int)\n",
    "z1 = z1.astype(int)"
   ]
  },
  {
   "cell_type": "code",
   "execution_count": 69,
   "metadata": {},
   "outputs": [
    {
     "data": {
      "image/png": "[encoded data removed]",
      "text/plain": [
       "<matplotlib.figure.Figure at 0x13c8dc160>"
      ]
     },
     "metadata": {},
     "output_type": "display_data"
    }
   ],
   "source": [
    "i = 100\n",
    "\n",
    "plt.figure(figsize=(16,5))\n",
    "plt.subplot(141)\n",
    "\n",
    "plt.imshow(r2_IML[:,i,:])\n",
    "plt.subplot(142)\n",
    "plt.imshow(Ideal_ML[:,i,:])\n",
    "plt.show()"
   ]
  },
  {
   "cell_type": "code",
   "execution_count": 70,
   "metadata": {},
   "outputs": [
    {
     "data": {
      "image/png": "[encoded data removed]",
      "text/plain": [
       "<matplotlib.figure.Figure at 0x13c8c6550>"
      ]
     },
     "metadata": {},
     "output_type": "display_data"
    },
    {
     "name": "stdout",
     "output_type": "stream",
     "text": [
      "Number of points 542684\n"
     ]
    }
   ],
   "source": [
    "# Check the spread range of x1 value should be very small\n",
    "# Calculate the reference_x coordinates\n",
    "xr = np.nonzero(r2_IML)[0]\n",
    "counts = np.bincount(xr)\n",
    "reference_x = np.argmax(counts)\n",
    "\n",
    "\n",
    "# Get the number of points\n",
    "num_pts = len(xr.flatten())\n",
    "\n",
    "# Extract the minimum and maximum intensity values and calculate the number of bins for the histogram\n",
    "lim_low = np.min(xr)\n",
    "lim_high = np.max(xr)\n",
    "# num_bins = (lim_high - lim_low + 1)\n",
    "num_bins = 10\n",
    "\n",
    "plt.figure(figsize=(10, 4), dpi=100)\n",
    "plt.hist(xr, bins=num_bins, normed=True, range=(lim_low, lim_high), color='lightgray');\n",
    "plt.xlim([lim_low,lim_high]); # we limit the x-axis to the range of interest\n",
    "plt.show()\n",
    "\n",
    "print('Number of points ' + str(num_pts))"
   ]
  },
  {
   "cell_type": "code",
   "execution_count": 71,
   "metadata": {},
   "outputs": [
    {
     "name": "stdout",
     "output_type": "stream",
     "text": [
      "Midplane shift to the left hemisphere\n",
      "inaccuracy near the falx attachment corrected\n",
      "114549.468677\n"
     ]
    }
   ],
   "source": [
    "counts = np.bincount(np.nonzero(r2_IML)[0])\n",
    "reference_x = np.argmax(counts)\n",
    "\n",
    "dev = x1 - reference_x\n",
    "dev = dev.astype(float)\n",
    "\n",
    "# Deviation to the right is positive!\n",
    "\n",
    "if np.sum(dev>0) < np.sum(dev<0):\n",
    "    dev = dev * -1\n",
    "    print(\"Midplane shift to the left hemisphere\")\n",
    "\n",
    "# Normalization \n",
    "Nor_dev = (dev/dev.max()).astype(float)\n",
    "\n",
    "# shift to opposite direction is likely to be noise when drawing manual midline\n",
    "# Nor_dis[-0.2<Nor_dis and Nor_dis<0.0] = 0.001\n",
    "# Check the negative shift is inaccuracy of manual delineation\n",
    "\n",
    "if Nor_dev.min() < 0.0 and Nor_dev.min() > -0.3:\n",
    "    print('inaccuracy near the falx attachment corrected')\n",
    "#     Rewrite the falx region to correct the bias\n",
    "    Nor_dev[Nor_dev<0.0] = 0.001\n",
    "elif Nor_dev.min() < -0.3:\n",
    "    print('double check the manual MP and the ideal MP')\n",
    "\n",
    "Brain_mask = np.zeros((int(z1.max()+1.0),int(y1.max()+1.0)))\n",
    "for i in range(len(z1)):\n",
    "    Brain_mask[z1[i],y1[i]]= Nor_dev[i]\n",
    "\n",
    "ConstPixelSpacing = img.GetSpacing()\n",
    "\n",
    "\n",
    "# Deviation volume \n",
    "Dev_volume = np.sum(np.absolute(Nor_dev))*dev.max()*ConstPixelSpacing[0]*ConstPixelSpacing[1]*ConstPixelSpacing[2]\n",
    "print (Dev_volume)"
   ]
  },
  {
   "cell_type": "code",
   "execution_count": 62,
   "metadata": {},
   "outputs": [
    {
     "data": {
      "text/plain": [
       "(363, 335, 148)"
      ]
     },
     "execution_count": 62,
     "metadata": {},
     "output_type": "execute_result"
    }
   ],
   "source": [
    "# np.where(Nor_dev==Nor_dev.min()),Nor_dev.max()\n",
    "# # Nor_dev.min()\n",
    "# x1[111796],y1[111796],z1[111796]"
   ]
  },
  {
   "cell_type": "code",
   "execution_count": 72,
   "metadata": {},
   "outputs": [
    {
     "data": {
      "image/png": "[encoded data removed]",
      "text/plain": [
       "<matplotlib.figure.Figure at 0x1257dcfd0>"
      ]
     },
     "metadata": {},
     "output_type": "display_data"
    },
    {
     "name": "stdout",
     "output_type": "stream",
     "text": [
      "Number of points 103114\n"
     ]
    }
   ],
   "source": [
    "# Get the number of points\n",
    "X = Nor_dev[Nor_dev != 0].flatten().reshape(-1,1)\n",
    "num_pts = len(X.flatten())\n",
    "\n",
    "# Extract the minimum and maximum intensity values and calculate the number of bins for the histogram\n",
    "lim_low = np.min(X)\n",
    "lim_high = np.max(X)\n",
    "# num_bins = (lim_high - lim_low + 1)\n",
    "num_bins = 50\n",
    "\n",
    "plt.figure(figsize=(10, 4), dpi=100)\n",
    "plt.hist(X, bins=num_bins, normed=True, range=(lim_low, lim_high), color='lightgray');\n",
    "plt.xlim([lim_low,lim_high]); # we limit the x-axis to the range of interest\n",
    "plt.show()\n",
    "\n",
    "print('Number of points ' + str(num_pts))"
   ]
  },
  {
   "cell_type": "code",
   "execution_count": 73,
   "metadata": {
    "collapsed": true
   },
   "outputs": [],
   "source": [
    "import scipy.io\n",
    "mm = np.array([y1,z1,Nor_dev])\n",
    "ConstPixelSpacing = np.array([ConstPixelSpacing[0],ConstPixelSpacing[1],ConstPixelSpacing[2],dev.max()])\n",
    "scipy.io.savemat('new_SCF.mat',{'mm':mm,'ConstPixelSpacing':ConstPixelSpacing})"
   ]
  },
  {
   "cell_type": "code",
   "execution_count": null,
   "metadata": {
    "collapsed": true
   },
   "outputs": [],
   "source": []
  }
 ],
 "metadata": {
  "kernelspec": {
   "display_name": "Python 3",
   "language": "python",
   "name": "python3"
  },
  "language_info": {
   "codemirror_mode": {
    "name": "ipython",
    "version": 3
   },
   "file_extension": ".py",
   "mimetype": "text/x-python",
   "name": "python",
   "nbconvert_exporter": "python",
   "pygments_lexer": "ipython3",
   "version": "3.6.2"
  }
 },
 "nbformat": 4,
 "nbformat_minor": 2
}
