{
 "cells": [
  {
   "cell_type": "markdown",
   "metadata": {},
   "source": [
    "# CO407H - Medical Image Computing"
   ]
  },
  {
   "cell_type": "markdown",
   "metadata": {},
   "source": [
    "## Tutorial 2 - Filtering, resampling, segmentation"
   ]
  },
  {
   "cell_type": "code",
   "execution_count": 1,
   "metadata": {
    "collapsed": false
   },
   "outputs": [
    {
     "data": {
      "text/html": [
       "<style>.container { width:100% !important; }</style>"
      ],
      "text/plain": [
       "<IPython.core.display.HTML object>"
      ]
     },
     "metadata": {},
     "output_type": "display_data"
    }
   ],
   "source": [
    "# Use full browser width\n",
    "from IPython.core.display import display, HTML\n",
    "display(HTML(\"<style>.container { width:100% !important; }</style>\"))"
   ]
  },
  {
   "cell_type": "markdown",
   "metadata": {},
   "source": [
    "### Data"
   ]
  },
  {
   "cell_type": "code",
   "execution_count": 3,
   "metadata": {
    "collapsed": false
   },
   "outputs": [
    {
     "name": "stdout",
     "output_type": "stream",
     "text": [
      "['mri-brain-noisy.nii.gz', '._mri-brain-noisy.nii.gz', 'ct-brain-noisy.nii.gz', '._ct-brain-noisy.nii.gz', 'ct-brain-lesion.nii.gz', '._ct-brain-lesion.nii.gz', 'mri-brain-anisotropic.nii.gz', '._mri-brain-anisotropic.nii.gz']\n"
     ]
    }
   ],
   "source": [
    "import os\n",
    "\n",
    "data_dir = \"/Volumes/FAIR/DC-Image-Analysis/python tutorials/tutorial2\"\n",
    "print(os.listdir(data_dir))"
   ]
  },
  {
   "cell_type": "markdown",
   "metadata": {},
   "source": [
    "### Set up the image viewer"
   ]
  },
  {
   "cell_type": "code",
   "execution_count": 4,
   "metadata": {
    "collapsed": false
   },
   "outputs": [
    {
     "ename": "ImportError",
     "evalue": "No module named ipywidgets",
     "output_type": "error",
     "traceback": [
      "\u001b[0;31m---------------------------------------------------------------------------\u001b[0m",
      "\u001b[0;31mImportError\u001b[0m                               Traceback (most recent call last)",
      "\u001b[0;32m<ipython-input-4-47a5ee91b301>\u001b[0m in \u001b[0;36m<module>\u001b[0;34m()\u001b[0m\n\u001b[1;32m      3\u001b[0m \u001b[0;32mimport\u001b[0m \u001b[0mmatplotlib\u001b[0m\u001b[0;34m.\u001b[0m\u001b[0mpyplot\u001b[0m \u001b[0;32mas\u001b[0m \u001b[0mplt\u001b[0m\u001b[0;34m\u001b[0m\u001b[0m\n\u001b[1;32m      4\u001b[0m \u001b[0;34m\u001b[0m\u001b[0m\n\u001b[0;32m----> 5\u001b[0;31m \u001b[0;32mfrom\u001b[0m \u001b[0mipywidgets\u001b[0m \u001b[0;32mimport\u001b[0m \u001b[0minteract\u001b[0m\u001b[0;34m,\u001b[0m \u001b[0mfixed\u001b[0m\u001b[0;34m\u001b[0m\u001b[0m\n\u001b[0m\u001b[1;32m      6\u001b[0m \u001b[0;32mfrom\u001b[0m \u001b[0mIPython\u001b[0m\u001b[0;34m.\u001b[0m\u001b[0mdisplay\u001b[0m \u001b[0;32mimport\u001b[0m \u001b[0mdisplay\u001b[0m\u001b[0;34m\u001b[0m\u001b[0m\n\u001b[1;32m      7\u001b[0m \u001b[0;34m\u001b[0m\u001b[0m\n",
      "\u001b[0;31mImportError\u001b[0m: No module named ipywidgets"
     ]
    }
   ],
   "source": [
    "import numpy as np\n",
    "import SimpleITK as sitk\n",
    "import matplotlib.pyplot as plt\n",
    "\n",
    "from ipywidgets import interact, fixed\n",
    "from IPython.display import display\n",
    "\n",
    "%matplotlib inline\n",
    "\n",
    "# Calculate parameters low and high from window and level\n",
    "def wl_to_lh(window, level):\n",
    "    low = level - window/2\n",
    "    high = level + window/2\n",
    "    return low,high\n",
    "\n",
    "def display_image(img, x=None, y=None, z=None, window=None, level=None):\n",
    "    # Convert SimpleITK image to NumPy array\n",
    "    img_array = sitk.GetArrayFromImage(img)\n",
    "    \n",
    "    # Get image dimensions in millimetres\n",
    "    size = img.GetSize()\n",
    "    spacing = img.GetSpacing()\n",
    "    width  = size[0] * spacing[0]\n",
    "    height = size[1] * spacing[1]\n",
    "    depth  = size[2] * spacing[2]\n",
    "    \n",
    "    if x is None:\n",
    "        x = np.floor(size[0]/2).astype(int)\n",
    "    if y is None:\n",
    "        y = np.floor(size[1]/2).astype(int)\n",
    "    if z is None:\n",
    "        z = np.floor(size[2]/2).astype(int)\n",
    "    \n",
    "    if window is None:\n",
    "        window = np.max(img_array) - np.min(img_array)\n",
    "    \n",
    "    if level is None:\n",
    "        level = window / 2 + np.min(img_array)\n",
    "    \n",
    "    low,high = wl_to_lh(window,level)\n",
    "\n",
    "    # Display the orthogonal slices\n",
    "    fig, (ax1, ax2, ax3) = plt.subplots(1, 3, figsize=(15, 5))\n",
    "\n",
    "    ax1.imshow(img_array[z,:,:], cmap='gray', clim=(low, high), extent=(0, width, height, 0))\n",
    "    ax2.imshow(img_array[:,y,:], origin='lower', cmap='gray', clim=(low, high), extent=(0, width,  0, depth))\n",
    "    ax3.imshow(img_array[:,:,x], origin='lower', cmap='gray', clim=(low, high), extent=(0, height, 0, depth))\n",
    "\n",
    "    # Additionally display crosshairs\n",
    "    ax1.axhline(y * spacing[1], lw=1)\n",
    "    ax1.axvline(x * spacing[0], lw=1)\n",
    "    \n",
    "    ax2.axhline(z * spacing[2], lw=1)\n",
    "    ax2.axvline(x * spacing[0], lw=1)\n",
    "    \n",
    "    ax3.axhline(z * spacing[2], lw=1)\n",
    "    ax3.axvline(y * spacing[1], lw=1)\n",
    "\n",
    "    plt.show()\n",
    "    \n",
    "def interactive_view(img):\n",
    "    size = img.GetSize() \n",
    "    img_array = sitk.GetArrayFromImage(img)\n",
    "    interact(display_image,img=fixed(img),\n",
    "             x=(0, size[0] - 1),\n",
    "             y=(0, size[1] - 1),\n",
    "             z=(0, size[2] - 1),\n",
    "             window=(0,np.max(img_array) - np.min(img_array)),\n",
    "             level=(np.min(img_array),np.max(img_array)));"
   ]
  },
  {
   "cell_type": "markdown",
   "metadata": {},
   "source": [
    "### Filtering with SimpleITK\n",
    "\n",
    "#### Smoothing\n",
    "\n",
    "Occasionally we will acquire medical scans which include some amount of undesired noise.\n",
    "\n",
    "One such noisy image might look like this:"
   ]
  },
  {
   "cell_type": "code",
   "execution_count": null,
   "metadata": {
    "collapsed": true,
    "scrolled": true
   },
   "outputs": [],
   "source": [
    "# We convert it to `float32` for compatibility with some functions we'll use later\n",
    "img = sitk.Cast(sitk.ReadImage(data_dir + 'mri-brain-noisy.nii.gz'), sitk.sitkFloat32)\n",
    "display_image(img)"
   ]
  },
  {
   "cell_type": "markdown",
   "metadata": {},
   "source": [
    "A basic denoising technique is to *convolve* the image with a smoothing filter (cf. Introduction slides 108-114).\n",
    "\n",
    "We can achieve this with SimpleITK using `sitk.DiscreteGaussian(<img>)` (it has a `variance` option, default `=1.0`).\n",
    "\n",
    "**Task:** Try applying a Gaussian filter to the loaded image. Try out different values for the `variance` parameter:"
   ]
  },
  {
   "cell_type": "code",
   "execution_count": null,
   "metadata": {
    "collapsed": true
   },
   "outputs": [],
   "source": [
    "img_gauss = sitk.DiscreteGaussian(img, variance=1)\n",
    "display_image(img_gauss)"
   ]
  },
  {
   "cell_type": "markdown",
   "metadata": {},
   "source": [
    "Comparing to the original noisy image, we can see that most of the visible noise is gone, but the image edges also lose their sharpness, in particular with larger values for the variance.\n",
    "\n",
    "Interestingly, Gaussian smoothing can be interpreted as *isotropic diffusion*, i.e. image intensities are 'diffused' (think heat conduction) homogeneously in all directions for a length of 'time' proportional to the variance of the Gaussian filter. Extending on this idea, another popular approach for denoising is *anisotropic diffusion*, which adjusts the local 'conductivity' based on the image gradients. In other words, it attempts to smooth out flat regions while preserving the edges.\n",
    "\n",
    "**Task:** Try out the SimpleITK function `sitk.GradientAnisotropicDiffusion(<img>)` (can take a few seconds). Play around with different values for the parameters of this filter:"
   ]
  },
  {
   "cell_type": "code",
   "execution_count": null,
   "metadata": {
    "collapsed": true
   },
   "outputs": [],
   "source": [
    "img_diffusion = sitk.GradientAnisotropicDiffusion(img)\n",
    "display_image(img_diffusion)\n",
    "#help(sitk.GradientAnisotropicDiffusion)"
   ]
  },
  {
   "cell_type": "markdown",
   "metadata": {},
   "source": [
    "Let's visualise all three together. Pay attention to the overall noise level and the sharpness of the edges. You might want to adjust the window/level setting for better contrast:"
   ]
  },
  {
   "cell_type": "code",
   "execution_count": null,
   "metadata": {
    "collapsed": true
   },
   "outputs": [],
   "source": [
    "display_image(img, window=400, level=200)\n",
    "display_image(img_gauss, window=400, level=200)\n",
    "display_image(img_diffusion, window=400, level=200)"
   ]
  },
  {
   "cell_type": "markdown",
   "metadata": {},
   "source": [
    "**Task:** Now try the same two smoothing approaches with `'ct-brain-noisy.nii.gz'`:"
   ]
  },
  {
   "cell_type": "code",
   "execution_count": null,
   "metadata": {
    "collapsed": true
   },
   "outputs": [],
   "source": [
    "img2 = sitk.Cast(sitk.ReadImage(data_dir + 'ct-brain-noisy.nii.gz'), sitk.sitkFloat32)\n",
    "display_image(img2)"
   ]
  },
  {
   "cell_type": "code",
   "execution_count": null,
   "metadata": {
    "collapsed": true
   },
   "outputs": [],
   "source": [
    "img2_gauss = sitk.DiscreteGaussian(img2)\n",
    "display_image(img2_gauss)"
   ]
  },
  {
   "cell_type": "code",
   "execution_count": null,
   "metadata": {
    "collapsed": true
   },
   "outputs": [],
   "source": [
    "img2_diffusion = sitk.GradientAnisotropicDiffusion(img2)\n",
    "display_image(img2_diffusion)"
   ]
  },
  {
   "cell_type": "markdown",
   "metadata": {},
   "source": [
    "**Task:** Again, visualise all three (noisy, blurred and diffused) in the CT intensity range for gray/white matter (`window=120, level=40`) and compare noise levels and edge sharpness."
   ]
  },
  {
   "cell_type": "code",
   "execution_count": null,
   "metadata": {
    "collapsed": true
   },
   "outputs": [],
   "source": [
    "display_image(img2, window=120, level=40)\n",
    "display_image(img2_gauss, window=120, level=40)\n",
    "display_image(img2_diffusion, window=120, level=40)"
   ]
  },
  {
   "cell_type": "markdown",
   "metadata": {},
   "source": [
    "You will notice that each method gives better results for one image but worse for the other. Why do you think that is the case?\n",
    "\n",
    "*Hint:* Think of the magnitude of the noise compared to the amplitude of the true image variations. If the signal-to-noise ratio if low, the algorithm has no way of knowing what needs to be preserved or smoothed out."
   ]
  },
  {
   "cell_type": "markdown",
   "metadata": {},
   "source": [
    "#### Edge detection\n",
    "\n",
    "Another common application of image filtering is estimating image gradients for edge detection (cf. Introduction lecture slides 115-118).\n",
    "\n",
    "Let us compute some spatial derivatives with `sitk.Derivative(<img>, direction=<dir>)`, where `<dir>` is 0, 1 or 2 for X, Y or Z, respectively."
   ]
  },
  {
   "cell_type": "code",
   "execution_count": null,
   "metadata": {
    "collapsed": true
   },
   "outputs": [],
   "source": [
    "img_dx = sitk.Derivative(img, direction=0)\n",
    "img_dy = sitk.Derivative(img, direction=1)\n",
    "img_dz = sitk.Derivative(img, direction=2)\n",
    "display_image(img_dx, level=0)\n",
    "display_image(img_dy, level=0)\n",
    "display_image(img_dz, level=0)"
   ]
  },
  {
   "cell_type": "markdown",
   "metadata": {},
   "source": [
    "When we compute the magnitude of the gradients of an image, we obtain what is called an *edge map*, which is simply a local measure of the 'strength' of an edge.\n",
    "\n",
    "This operation is readily available in SimpleITK with `sitk.SobelEdgeDetection(<img>)`:"
   ]
  },
  {
   "cell_type": "code",
   "execution_count": null,
   "metadata": {
    "collapsed": true
   },
   "outputs": [],
   "source": [
    "img_sobel = sitk.SobelEdgeDetection(img)\n",
    "display_image(img_sobel)"
   ]
  },
  {
   "cell_type": "markdown",
   "metadata": {},
   "source": [
    "Note how the derivatives look quite 'grainy', as we are differentiating the superimposed noise as well.\n",
    "\n",
    "**Task**: How could you improve the edge detection on a noisy image?"
   ]
  },
  {
   "cell_type": "code",
   "execution_count": null,
   "metadata": {
    "collapsed": true
   },
   "outputs": [],
   "source": [
    "# We run edge detection on the smoothed image\n",
    "img_sobel2 = sitk.SobelEdgeDetection(img_gauss)\n",
    "display_image(img_sobel2)"
   ]
  },
  {
   "cell_type": "markdown",
   "metadata": {},
   "source": [
    "#### Edge sharpening\n",
    "\n",
    "***Optional Task:*** Have a look at Introduction slides 121-122 and try to implement a `sharpen()` function which applies unsharp masking to an image. It should only use `sitk.DiscreteGaussian`, as above, and take the following arguments:\n",
    "- `scale`: the standard deviation of the Gaussian filter\n",
    "- `strength`: the scaling factor for the smoothed image"
   ]
  },
  {
   "cell_type": "code",
   "execution_count": null,
   "metadata": {
    "collapsed": true
   },
   "outputs": [],
   "source": [
    "def sharpen(img, scale=1, strength=2):    \n",
    "    # Apply unsharp masking\n",
    "    img_smooth = sitk.DiscreteGaussian(img, variance=scale)\n",
    "    img_sharpened = img + (img - img_smooth) * strength\n",
    "    return img_sharpened\n",
    "\n",
    "img_sharp = sharpen(img_gauss, 1, 2)\n",
    "display_image(img_gauss, window=400, level=200)\n",
    "display_image(img_sharp, window=400, level=200)"
   ]
  },
  {
   "cell_type": "markdown",
   "metadata": {},
   "source": [
    "### Resampling\n",
    "\n",
    "Many image processing or computer vision algorithms adopt a multi-scale approach, for example making a coarse search over the entire image and then refining it at smaller scales. This can be achieved efficiently through the use of so-called *image pyramids* (cf. Introduction slide 89), which are formed by the base image and itself downsampled to lower resolutions, typically by a factor of 2 at each level.\n",
    "\n",
    "**Task:** Implement a naïve downsampling function, by simply taking one every `<factor>` (integer-valued) pixels in each dimension.\n",
    "\n",
    "*Hint:* SimpleITK image objects also support Python's indexing notation: `[start:stop:step]`, potentially omitting any of the arguments."
   ]
  },
  {
   "cell_type": "code",
   "execution_count": null,
   "metadata": {
    "collapsed": true
   },
   "outputs": [],
   "source": [
    "def downsample_naive(img, factor=2):\n",
    "    return img[::factor, ::factor, ::factor]"
   ]
  },
  {
   "cell_type": "markdown",
   "metadata": {},
   "source": [
    "Now let us test with the MRI volume from before:"
   ]
  },
  {
   "cell_type": "code",
   "execution_count": null,
   "metadata": {
    "collapsed": true
   },
   "outputs": [],
   "source": [
    "img = sitk.ReadImage(data_dir + \"mri-brain-noisy.nii.gz\")\n",
    "display_image(img)"
   ]
  },
  {
   "cell_type": "code",
   "execution_count": null,
   "metadata": {
    "collapsed": true
   },
   "outputs": [],
   "source": [
    "img_down_naive_1 = downsample_naive(img)\n",
    "img_down_naive_2 = downsample_naive(img_down_naive_1)\n",
    "img_down_naive_3 = downsample_naive(img_down_naive_2)\n",
    "\n",
    "display_image(img)\n",
    "display_image(img_down_naive_1)\n",
    "display_image(img_down_naive_2)\n",
    "display_image(img_down_naive_3)"
   ]
  },
  {
   "cell_type": "markdown",
   "metadata": {},
   "source": [
    "It is known that naïve undersampling can produce *aliasing*, i.e. exacerbate high spatial frequencies (edges and noise) in the downsampled image, making it look jagged and 'blocky'. We usually circumvent this issue by first smoothing the image with a low-pass filter (e.g. Gaussian) before resampling the pixel values.\n",
    "\n",
    "**Task:** Now try implementing a `downsample` method which first applies a Gaussian smoothing and then downsamples by an integer factor (no interpolation needed).\n",
    "\n",
    "*Hint:* Recall the `variance` option for `sitk.DiscreteGaussian`. A Gaussian standard deviation of `0.5*factor` works well in practice, but feel free to experiment!"
   ]
  },
  {
   "cell_type": "code",
   "execution_count": null,
   "metadata": {
    "collapsed": true
   },
   "outputs": [],
   "source": [
    "def downsample(img, factor=2):\n",
    "    smoothed = sitk.DiscreteGaussian(img, variance=(.5 * factor) ** 2)   \n",
    "    return smoothed[::factor, ::factor, ::factor]"
   ]
  },
  {
   "cell_type": "markdown",
   "metadata": {},
   "source": [
    "Let's have a look at the results for this approach:"
   ]
  },
  {
   "cell_type": "code",
   "execution_count": null,
   "metadata": {
    "collapsed": true
   },
   "outputs": [],
   "source": [
    "img_down_1 = downsample(img)\n",
    "img_down_2 = downsample(img_down_1)\n",
    "img_down_3 = downsample(img_down_2)\n",
    "\n",
    "display_image(img)\n",
    "display_image(img_down_1)\n",
    "display_image(img_down_2)\n",
    "display_image(img_down_3)"
   ]
  },
  {
   "cell_type": "markdown",
   "metadata": {},
   "source": [
    "#### Resampling with SimpleITK"
   ]
  },
  {
   "cell_type": "markdown",
   "metadata": {},
   "source": [
    "SimpleITK offers advanced resampling features that can be useful in many scenarios, e.g. when downsampling by non-integer factors or resampling to a specific resolution (e.g. isotropic).\n",
    "\n",
    "Have a look at the `resample()` function we have implemented below and try to understand the role of each of the arguments to the `sitk.ResampleImageFilter`."
   ]
  },
  {
   "cell_type": "code",
   "execution_count": null,
   "metadata": {
    "collapsed": true
   },
   "outputs": [],
   "source": [
    "def resample(img, new_size=None, new_spacing=None):\n",
    "    old_size = img.GetSize()\n",
    "    old_spacing = img.GetSpacing()\n",
    "    \n",
    "    if new_size is None and new_spacing is None:\n",
    "        return img\n",
    "    \n",
    "    if new_size is None:\n",
    "        # Compute new image dimensions based on the desired rescaling of the voxel spacing\n",
    "        new_size = [int(np.ceil(old_size[d] * old_spacing[d] / new_spacing[d])) for d in range(3)]\n",
    "\n",
    "    if new_spacing is None:\n",
    "        # Compute new voxel spacing based on the desired rescaling of the image dimensions\n",
    "        new_spacing = [old_spacing[d] * old_size[d] / new_size[d] for d in range(3)]\n",
    "\n",
    "    # Smooth the input image with anisotropic Gaussian filter\n",
    "    img_smoothed = img\n",
    "    for d in range(3):\n",
    "        # Note how the blurring strength can be different in each direction,\n",
    "        # if the scaling factors are different.\n",
    "        factor = new_spacing[d] / old_spacing[d]\n",
    "        sigma = 0.2 * factor\n",
    "        img_smoothed = sitk.RecursiveGaussian(img_smoothed, sigma=sigma, direction=d)\n",
    "\n",
    "    # Finally, apply the resampling operation\n",
    "    img_resampled = sitk.ResampleImageFilter().Execute(\n",
    "        img_smoothed,        # Input image\n",
    "        new_size,            # Output image dimensions\n",
    "        sitk.Transform(),    # Coordinate transformation. sitk.Transform() is a dummy identity transform,\n",
    "                             # as we want the brain to be in exactly the same place. When we do image registration,\n",
    "                             # for example, this can be a linear or nonlinear transformation.\n",
    "        sitk.sitkLinear,     # Interpolation method (cf. also sitk.sitkNearestNeighbor and many others)\n",
    "        img.GetOrigin(),     # Output image origin (same)\n",
    "        new_spacing,         # Output voxel spacing\n",
    "        img.GetDirection(),  # Output image orientation (same)\n",
    "        0,                   # Fill value for points outside the input domain\n",
    "        img.GetPixelID())    # Voxel data type (same)\n",
    "\n",
    "    return img_resampled"
   ]
  },
  {
   "cell_type": "markdown",
   "metadata": {},
   "source": [
    "Let's resample the MR image to an element spacing of 2x4x8mm."
   ]
  },
  {
   "cell_type": "code",
   "execution_count": null,
   "metadata": {
    "collapsed": true
   },
   "outputs": [],
   "source": [
    "img_resampled = resample(img, new_spacing=[2, 4, 8])\n",
    "\n",
    "print(\"Spacing: {}\".format(img.GetSpacing()))\n",
    "display_image(img, window=400, level=200)\n",
    "\n",
    "print(\"Spacing: {}\".format(img_resampled.GetSpacing()))\n",
    "display_image(img_resampled, window=400, level=200)"
   ]
  },
  {
   "cell_type": "markdown",
   "metadata": {},
   "source": [
    "On slide 90 in the Introduction slides we discussed the problem that medical imaging data is often anisotropic. For many image analysis algorithms, however, it is easier to work with isotropic input data.\n",
    "\n",
    "Here is the example image from the lecture slides:"
   ]
  },
  {
   "cell_type": "code",
   "execution_count": null,
   "metadata": {
    "collapsed": true
   },
   "outputs": [],
   "source": [
    "img3 = sitk.ReadImage(data_dir + 'mri-brain-anisotropic.nii.gz')\n",
    "display_image(img3, z=10, window=800, level=400)"
   ]
  },
  {
   "cell_type": "markdown",
   "metadata": {},
   "source": [
    "** Task: ** Try resampling the above image to an isotropic 1mm resolution, and display the result showing approximately the same xy-plane by setting an appropriate value for the `z` parameter in the `display_image` function."
   ]
  },
  {
   "cell_type": "code",
   "execution_count": null,
   "metadata": {
    "collapsed": true
   },
   "outputs": [],
   "source": [
    "img3_resampled = resample(img3, new_spacing=[1, 1, 1])\n",
    "\n",
    "print(\"Spacing: {}\".format(img3.GetSpacing()))\n",
    "display_image(img3, z=10, window=800, level=400)\n",
    "\n",
    "print(\"Spacing: {}\".format(img3_resampled.GetSpacing()))\n",
    "display_image(img3_resampled, z=50, window=800, level=400)"
   ]
  },
  {
   "cell_type": "markdown",
   "metadata": {},
   "source": [
    "### Segmentation\n",
    "\n",
    "First let us define some helper functions to overlay an image with a segmentation, for good visualisation. `display_overlay()` takes as input the base image, a segmentation image (binary) and all the usual arguments for `display_image()`:"
   ]
  },
  {
   "cell_type": "code",
   "execution_count": null,
   "metadata": {
    "collapsed": true
   },
   "outputs": [],
   "source": [
    "def label_overlay(img, seg):\n",
    "    minmax = sitk.MinimumMaximumImageFilter()\n",
    "    minmax.Execute(img)\n",
    "    low, high = minmax.GetMinimum(), minmax.GetMaximum()\n",
    "    img_norm = (img - low) / (high - low)\n",
    "    img_uint8 = sitk.Cast(256 * img_norm, sitk.sitkUInt8)\n",
    "    return sitk.LabelOverlay(img_uint8, seg)\n",
    "\n",
    "def display_overlay(img, seg, *args, **kwargs):\n",
    "    display_image(label_overlay(img, seg), *args, **kwargs)"
   ]
  },
  {
   "cell_type": "markdown",
   "metadata": {
    "collapsed": true
   },
   "source": [
    "#### Thresholding\n",
    "\n",
    "As we have seen in the Segmentation lecture (slides 44-51), the simplest form of segmentation is just based on a single cutoff in the intensities, with a manually specified threshold. Alternatively, we can specify an upper and a lower thresholds.\n",
    "\n",
    "**Task:** Try to find a good UL thresholding to segment the lesion in the noisy CT scan. You might find some hints for good thresholds in the lecture slides.\n",
    "\n",
    "*Hint 1:* SimpleITK images support comparison (`<`, `>`, `<=`, `>=`, `==`, `!=`) and logical ('and' `&`, 'or' `|`, 'xor' `^`, 'not' `~`) operators to produce binary images.\n",
    "\n",
    "*Hint 2:* Image noise causes major problems for thresholding approaches. Try removing noise before thresholding the image and compare the results."
   ]
  },
  {
   "cell_type": "code",
   "execution_count": null,
   "metadata": {
    "collapsed": true
   },
   "outputs": [],
   "source": [
    "img = sitk.ReadImage(data_dir + 'ct-brain-noisy.nii.gz')\n",
    "display_image(img, x=70, y=100, z=90, window=120, level=40)"
   ]
  },
  {
   "cell_type": "code",
   "execution_count": null,
   "metadata": {
    "collapsed": true
   },
   "outputs": [],
   "source": [
    "seg = (img > 50) & (img < 100)\n",
    "display_overlay(img, seg, x=70, y=100, z=90)"
   ]
  },
  {
   "cell_type": "code",
   "execution_count": null,
   "metadata": {
    "collapsed": true
   },
   "outputs": [],
   "source": [
    "img_gauss = sitk.DiscreteGaussian(img)\n",
    "seg = (img_gauss > 50) & (img_gauss < 100)\n",
    "display_overlay(img_gauss, seg, x=70, y=100, z=90)"
   ]
  },
  {
   "cell_type": "markdown",
   "metadata": {},
   "source": [
    "Here we can observe one of the main shortcomings of purely intensity-based segmentation methods: we have no control over the location or spatial contiguity of the segmented regions. So even if we manage to segment most of the lesion, there are lot of areas included with the same intensity range outside the structure of interest."
   ]
  },
  {
   "cell_type": "markdown",
   "metadata": {},
   "source": [
    "#### Region growing\n",
    "\n",
    "Region growing offers an alternative to simple thresholding that addresses the issue of spatial contiguity: it only labels the voxels which are *reachable* from a set of manually-specified *seed points*. In its simplest form, it is equivalent to thresholding, but limited to regions connected to the seeds.\n",
    "\n",
    "**Task:** Implement region growing with UL thresholding.\n",
    "\n",
    "*Hints:*\n",
    "- The basic idea is given as pseudo-code on slide 68.\n",
    "- To initialise your zero-filled segmentation image, use `sitk.Image(<img>.GetSize(), sitk.sitkUInt8)`. Don't forget to also call `<seg>.CopyInformation(<img>)` to copy the meta-data (spacing, origin, orientation) from the input image.\n",
    "- You can use Python's `collections.deque` (double-ended queue). Use `.append(<elem>)` or `.extend(<list>)` to enqueue elements and `.popleft()` to dequeue an element (`.pop()` would work as a stack instead).\n",
    "- Your algorithm should remember which voxels have already been visited. This can be achieved with a Python set (`set()`), with which you can do `.add(<elem>)` and `if <elem> in <set>:`.\n",
    "- Use tuples to represent the voxel locations (e.g. `point=(x,y,z)`), then you can index directly into the SimpleITK image with them (e.g. `image[point]`).\n",
    "- `neighbours(<point>, <img_size>)` returns the list of immediate neighbours of `<point>`, clipped at the image borders."
   ]
  },
  {
   "cell_type": "code",
   "execution_count": null,
   "metadata": {
    "collapsed": true
   },
   "outputs": [],
   "source": [
    "def neighbours(x, size):\n",
    "    nbs = []\n",
    "    for d in range(len(x)):\n",
    "        if x[d] > 0:\n",
    "            nb = list(x)\n",
    "            nb[d] -= 1\n",
    "            nbs.append(tuple(nb))\n",
    "        if x[d] < size[d] - 1:\n",
    "            nb = list(x)\n",
    "            nb[d] += 1\n",
    "            nbs.append(tuple(nb))\n",
    "    return nbs"
   ]
  },
  {
   "cell_type": "code",
   "execution_count": null,
   "metadata": {
    "collapsed": true
   },
   "outputs": [],
   "source": [
    "from collections import deque\n",
    "\n",
    "def region_growing(img, seeds, low, high):\n",
    "    size = img.GetSize()\n",
    "    seg = sitk.Image(size, sitk.sitkUInt8)\n",
    "    queue = deque()\n",
    "    queue.extend(seeds)\n",
    "    visited = set()\n",
    "    while len(queue) > 0:\n",
    "        x = queue.popleft()\n",
    "        if x in visited:\n",
    "            continue\n",
    "        visited.add(x)\n",
    "        if low <= img[x] < high:\n",
    "            seg[x] = 1\n",
    "            queue.extend(neighbours(x, size))\n",
    "    seg.CopyInformation(img)\n",
    "    return seg"
   ]
  },
  {
   "cell_type": "code",
   "execution_count": null,
   "metadata": {
    "collapsed": true
   },
   "outputs": [],
   "source": [
    "display_image(img_gauss, x=70, y=100, z=90, window=120, level=40)"
   ]
  },
  {
   "cell_type": "code",
   "execution_count": null,
   "metadata": {
    "collapsed": true
   },
   "outputs": [],
   "source": [
    "seed = (70, 100, 90)\n",
    "low, high = 50, 100\n",
    "seg2 = region_growing(img_gauss, [seed], low, high)\n",
    "display_overlay(img_gauss, seg2, *seed)"
   ]
  },
  {
   "cell_type": "markdown",
   "metadata": {},
   "source": [
    "Let's visually compare the results to a manual reference segmentation."
   ]
  },
  {
   "cell_type": "code",
   "execution_count": null,
   "metadata": {
    "collapsed": true
   },
   "outputs": [],
   "source": [
    "ref = sitk.ReadImage(data_dir + 'ct-brain-lesion.nii.gz')\n",
    "\n",
    "print(\"Thresholding\")\n",
    "display_image(label_overlay(img_gauss, seg), *seed)\n",
    "print(\"Region growing\")\n",
    "display_image(label_overlay(img_gauss, seg2), *seed)\n",
    "print(\"Reference segmentation\")\n",
    "display_image(label_overlay(img_gauss, ref), *seed)"
   ]
  },
  {
   "cell_type": "markdown",
   "metadata": {},
   "source": [
    "#### Evaluation using Dice Similarity Coefficient"
   ]
  },
  {
   "cell_type": "markdown",
   "metadata": {},
   "source": [
    "Let's now quantitatively evaluate the segmentations using different performance measures as discussed in the lecture from slide 30 and following. SimpleITK has many important measures already implemented.\n",
    "\n",
    "First, we extract the surfaces from the segmentations."
   ]
  },
  {
   "cell_type": "code",
   "execution_count": null,
   "metadata": {
    "collapsed": true
   },
   "outputs": [],
   "source": [
    "seg_contour = sitk.LabelContour(seg)\n",
    "seg2_contour = sitk.LabelContour(seg2)\n",
    "ref_contour = sitk.LabelContour(ref)\n",
    "\n",
    "print(\"Thresholding - Surface\")\n",
    "display_image(label_overlay(img_gauss, seg_contour), *seed)\n",
    "print(\"Region growing - Surface\")\n",
    "display_image(label_overlay(img_gauss, seg2_contour), *seed)\n",
    "print(\"Reference segmentation - Surface\")\n",
    "display_image(label_overlay(img_gauss, ref_contour), *seed)"
   ]
  },
  {
   "cell_type": "markdown",
   "metadata": {},
   "source": [
    "Then we can use SimpleITK to compute overlap measures such as Jaccard Index (JI) and Dice Similarity Coefficient (DSC). We can also directly compute the Hausdorff Distance (HD) from the segmentation contours using SimpleITK's `HausdorffDistanceImageFilter`."
   ]
  },
  {
   "cell_type": "code",
   "execution_count": null,
   "metadata": {
    "collapsed": true
   },
   "outputs": [],
   "source": [
    "overlap_measures_filter = sitk.LabelOverlapMeasuresImageFilter()\n",
    "hausdorff_distance_filter = sitk.HausdorffDistanceImageFilter()\n",
    "\n",
    "overlap_measures_filter.Execute(ref, seg)\n",
    "hausdorff_distance_filter.Execute(ref_contour, seg_contour)\n",
    "print('\\nThresholding')\n",
    "print('JI\\t' + str(overlap_measures_filter.GetJaccardCoefficient()))\n",
    "print('DSC\\t' + str(overlap_measures_filter.GetDiceCoefficient()))\n",
    "print('HD\\t' + str(hausdorff_distance_filter.GetHausdorffDistance()))\n",
    "\n",
    "overlap_measures_filter.Execute(ref, seg2)\n",
    "hausdorff_distance_filter.Execute(ref_contour, seg2_contour)\n",
    "print('\\nRegion growing')\n",
    "print('JI\\t' + str(overlap_measures_filter.GetJaccardCoefficient()))\n",
    "print('DSC\\t' + str(overlap_measures_filter.GetDiceCoefficient()))\n",
    "print('HD\\t' + str(hausdorff_distance_filter.GetHausdorffDistance()))"
   ]
  },
  {
   "cell_type": "markdown",
   "metadata": {},
   "source": [
    "Computing the Average Surface Distance (ASD) is a bit more involved, but we can make use of the `SignedMaurerDistanceMap` in SimpleITK. We then follow the approach described in slide 35 and following."
   ]
  },
  {
   "cell_type": "code",
   "execution_count": null,
   "metadata": {
    "collapsed": true
   },
   "outputs": [],
   "source": [
    "seg_distance_map = sitk.SignedMaurerDistanceMap(seg_contour, squaredDistance=False, useImageSpacing=True)\n",
    "seg2_distance_map = sitk.SignedMaurerDistanceMap(seg2_contour, squaredDistance=False, useImageSpacing=True)\n",
    "ref_distance_map = sitk.SignedMaurerDistanceMap(ref_contour, squaredDistance=False, useImageSpacing=True)\n",
    "\n",
    "print('Thresholding - Distance Map')\n",
    "display_image(seg_distance_map, *seed, window=100, level=20)\n",
    "\n",
    "print('Region growing - Distance Map')\n",
    "display_image(seg2_distance_map, *seed, window=100, level=20)\n",
    "\n",
    "print('Reference - Distance Map')\n",
    "display_image(ref_distance_map, *seed, window=100, level=20)"
   ]
  },
  {
   "cell_type": "markdown",
   "metadata": {},
   "source": [
    "We convert everything to numpy arrays."
   ]
  },
  {
   "cell_type": "code",
   "execution_count": null,
   "metadata": {
    "collapsed": true
   },
   "outputs": [],
   "source": [
    "# segmentations\n",
    "seg_np = sitk.GetArrayFromImage(seg).astype(bool)\n",
    "seg2_np = sitk.GetArrayFromImage(seg2).astype(bool)\n",
    "ref_np = sitk.GetArrayFromImage(ref).astype(bool)\n",
    "\n",
    "# surfaces\n",
    "seg_contour_np = sitk.GetArrayFromImage(seg_contour).astype(bool)\n",
    "seg2_contour_np = sitk.GetArrayFromImage(seg2_contour).astype(bool)\n",
    "ref_contour_np = sitk.GetArrayFromImage(ref_contour).astype(bool)\n",
    "\n",
    "# distance maps\n",
    "seg_distance_map_np = sitk.GetArrayFromImage(seg_distance_map)\n",
    "seg2_distance_map_np = sitk.GetArrayFromImage(seg2_distance_map)\n",
    "ref_distance_map_np = sitk.GetArrayFromImage(ref_distance_map)"
   ]
  },
  {
   "cell_type": "markdown",
   "metadata": {},
   "source": [
    "Now we can compute ASD by reading out the distances for surface pixels overlaid on the respective distance map."
   ]
  },
  {
   "cell_type": "code",
   "execution_count": null,
   "metadata": {
    "collapsed": true
   },
   "outputs": [],
   "source": [
    "distance_dir1 = np.mean(ref_distance_map_np[seg_contour_np])\n",
    "distance_dir2 = np.mean(seg_distance_map_np[ref_contour_np])\n",
    "print('\\nThresholding')\n",
    "print('ASD\\t' + str(np.max([distance_dir1, distance_dir2])))\n",
    "\n",
    "distance_dir1 = np.mean(ref_distance_map_np[seg2_contour_np])\n",
    "distance_dir2 = np.mean(seg2_distance_map_np[ref_contour_np])\n",
    "print('\\nRegion growing')\n",
    "print('ASD\\t' + str(np.max([distance_dir1, distance_dir2])))"
   ]
  },
  {
   "cell_type": "markdown",
   "metadata": {},
   "source": [
    "**Task:** Similarily, we can compute the Hausdorff Distance ourselves. Try it and compare the values to the ones obtained with SimpleITK."
   ]
  },
  {
   "cell_type": "code",
   "execution_count": null,
   "metadata": {
    "collapsed": true
   },
   "outputs": [],
   "source": [
    "hausdorff_dir1 = np.max(ref_distance_map_np[seg_contour_np])\n",
    "hausdorff_dir2 = np.max(seg_distance_map_np[ref_contour_np])\n",
    "print('\\nThresholding')\n",
    "print('HD (ours)\\t' + str(np.max([hausdorff_dir1, hausdorff_dir2])))\n",
    "\n",
    "hausdorff_distance_filter.Execute(ref_contour, seg_contour)\n",
    "print('HD (SimpleITK)\\t' + str(hausdorff_distance_filter.GetHausdorffDistance()))\n",
    "\n",
    "hausdorff_dir1 = np.max(ref_distance_map_np[seg2_contour_np])\n",
    "hausdorff_dir2 = np.max(seg2_distance_map_np[ref_contour_np])\n",
    "print('\\nRegion growing')\n",
    "print('HD (ours)\\t' + str(np.max([hausdorff_dir1, hausdorff_dir2])))\n",
    "\n",
    "hausdorff_distance_filter.Execute(ref_contour, seg2_contour)\n",
    "print('HD (SimpleITK)\\t' + str(hausdorff_distance_filter.GetHausdorffDistance()))"
   ]
  },
  {
   "cell_type": "markdown",
   "metadata": {},
   "source": [
    "It's also quite easy to compute the Jaccard Index (JI) and Dice Similarity Coefficient (DSC) directly using numpy. To this end, let's first determine the true positives (TP), false positives (FP), true negatives (TN), and false negatives (FN)."
   ]
  },
  {
   "cell_type": "code",
   "execution_count": null,
   "metadata": {
    "collapsed": true
   },
   "outputs": [],
   "source": [
    "tp = np.sum( seg_np &  ref_np)\n",
    "fp = np.sum( seg_np & ~ref_np)\n",
    "tn = np.sum(~seg_np & ~ref_np)\n",
    "fn = np.sum(~seg_np &  ref_np)"
   ]
  },
  {
   "cell_type": "markdown",
   "metadata": {},
   "source": [
    "** Task: ** Now compute JI and DSC for both results, thresholding and region growing, and compare the values to the ones obtained with SimpleITK."
   ]
  },
  {
   "cell_type": "code",
   "execution_count": null,
   "metadata": {
    "collapsed": true
   },
   "outputs": [],
   "source": [
    "seg2_np = sitk.GetArrayFromImage(seg2).astype(bool)\n",
    "tp2 = np.sum( seg2_np &  ref_np)\n",
    "fp2 = np.sum( seg2_np & ~ref_np)\n",
    "tn2 = np.sum(~seg2_np & ~ref_np)\n",
    "fn2 = np.sum(~seg2_np &  ref_np)"
   ]
  },
  {
   "cell_type": "code",
   "execution_count": null,
   "metadata": {
    "collapsed": true
   },
   "outputs": [],
   "source": [
    "jaccard = tp / (tp + fp + fn)\n",
    "dice = 2 * tp / (2 * tp + fp + fn)\n",
    "\n",
    "jaccard2 = tp2 / (tp2 + fp2 + fn2)\n",
    "dice2 = 2 * tp2 / (2 * tp2 + fp2 + fn2)"
   ]
  },
  {
   "cell_type": "code",
   "execution_count": null,
   "metadata": {
    "collapsed": true
   },
   "outputs": [],
   "source": [
    "overlap_measures_filter.Execute(ref, seg)\n",
    "print('\\nThresholding')\n",
    "print('JI (ours)\\t' + str(jaccard))\n",
    "print('JI (SimpleITK)\\t' + str(overlap_measures_filter.GetJaccardCoefficient()))\n",
    "print('DSC (ours)\\t' + str(dice))\n",
    "print('DSC (SimpleITK)\\t' + str(overlap_measures_filter.GetDiceCoefficient()))\n",
    "\n",
    "overlap_measures_filter.Execute(ref, seg2)\n",
    "print('\\nRegion growing')\n",
    "print('JI (ours)\\t' + str(jaccard2))\n",
    "print('JI (SimpleITK)\\t' + str(overlap_measures_filter.GetJaccardCoefficient()))\n",
    "print('DSC (ours)\\t' + str(dice2))\n",
    "print('DSC (SimpleITK)\\t' + str(overlap_measures_filter.GetDiceCoefficient()))"
   ]
  },
  {
   "cell_type": "code",
   "execution_count": null,
   "metadata": {
    "collapsed": true
   },
   "outputs": [],
   "source": []
  }
 ],
 "metadata": {
  "kernelspec": {
   "display_name": "Python 2",
   "language": "python",
   "name": "python2"
  },
  "language_info": {
   "codemirror_mode": {
    "name": "ipython",
    "version": 2
   },
   "file_extension": ".py",
   "mimetype": "text/x-python",
   "name": "python",
   "nbconvert_exporter": "python",
   "pygments_lexer": "ipython2",
   "version": "2.7.13"
  }
 },
 "nbformat": 4,
 "nbformat_minor": 2
}
