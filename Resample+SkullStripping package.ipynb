{
 "cells": [
  {
   "cell_type": "code",
   "execution_count": 27,
   "metadata": {
    "collapsed": true
   },
   "outputs": [],
   "source": [
    "import os\n",
    "os.chdir('/Volumes/FAIR/Skull_stripping-master_latest')\n",
    "\n",
    "%matplotlib inline\n",
    "import sys\n",
    "sys.path.append(\"/Volumes/FAIR/Skull_stripping-master_latest/blast-master/blast/aux1\")\n",
    "sys.path.append(\"/Volumes/FAIR/Registered_MPS3\")\n",
    "import SimpleITK as sitk\n",
    "import os\n",
    "import numpy as np\n",
    "import matplotlib.pyplot as plt\n",
    "import NyulNormalizer as nyul\n",
    "from Common import ensureDir, getMedicalImageBasename\n",
    "\n",
    "from NyulNormalizer import NyulNormalizer\n",
    "import math\n",
    "import Dropreg\n",
    "import scipy.ndimage.filters as filters\n",
    "import Image_viewer as Iv\n",
    "import PreProcessor_Py3\n"
   ]
  },
  {
   "cell_type": "code",
   "execution_count": 54,
   "metadata": {
    "scrolled": false
   },
   "outputs": [
    {
     "name": "stdout",
     "output_type": "stream",
     "text": [
      "Reading directory: /Volumes/FAIR/Registered_MPS3/tutorial3\n",
      "Normalizing...\n",
      "Done\n",
      "Skull Stripping CT...\n",
      "Creating binary initalization...\n",
      "Refining binary initialization...\n",
      "Detecting the skull...\n",
      "Constructing feature maps for the level sets...\n",
      "Segmenting through level sets...\n",
      "Thresholingd the level set...\n",
      "Filling final holes...\n",
      "Keeping only the largest connected component...\n",
      "Writing to: /Volumes/FAIR/Registered_MPS3/tutorial3/CT_thinThinBrain.nii.gz ...\n",
      "Done\n"
     ]
    },
    {
     "data": {
      "image/png": "[encoded data removed]",
      "text/plain": [
       "<matplotlib.figure.Figure at 0x11d998a90>"
      ]
     },
     "metadata": {},
     "output_type": "display_data"
    }
   ],
   "source": [
    "\n",
    "# paths = ['/Volumes/FAIR/Registered_MPS3/MPS1',\n",
    "#          '/Volumes/FAIR/Registered_MPS3/MPS2',\n",
    "#          '/Volumes/FAIR/Registered_MPS3/MPS3',\n",
    "#          '/Volumes/FAIR/Registered_MPS3/MPS4',\n",
    "#          '/Volumes/FAIR/Registered_MPS3/MPS5',\n",
    "#          '/Volumes/FAIR/Registered_MPS3/MPS6',\n",
    "#          '/Volumes/FAIR/Registered_MPS3/MPS7',\n",
    "#          '/Volumes/FAIR/Registered_MPS3/MPS8',\n",
    "#          '/Volumes/FAIR/Registered_MPS3/MPS9',\n",
    "#          '/Volumes/FAIR/Registered_MPS3/MPS10',\n",
    "#          '/Volumes/FAIR/Registered_MPS3/MPS11',\n",
    "#          '/Volumes/FAIR/Registered_MPS3/MPS12',\n",
    "#          '/Volumes/FAIR/Registered_MPS3/MPS13',\n",
    "#          '/Volumes/FAIR/Registered_MPS3/MPS14',\n",
    "#          ]\n",
    "\n",
    "paths = ['/Volumes/FAIR/Registered_MPS3/SDH4',\n",
    "         '/Volumes/FAIR/Registered_MPS3/SDH7',\n",
    "         '/Volumes/FAIR/Registered_MPS3/SDH8',\n",
    "         '/Volumes/FAIR/Registered_MPS3/SDH11',\n",
    "         '/Volumes/FAIR/Registered_MPS3/SDH12',\n",
    "         '/Volumes/FAIR/Registered_MPS3/SDH16-2',\n",
    "         '/Volumes/FAIR/Registered_MPS3/SDH14',\n",
    "         '/Volumes/FAIR/Registered_MPS3/SDH24',\n",
    "         '/Volumes/FAIR/Registered_MPS3/CONT5',\n",
    "         '/Volumes/FAIR/Registered_MPS3/CONT7',\n",
    "         '/Volumes/FAIR/Registered_MPS3/EDH7',\n",
    "         '/Volumes/FAIR/Registered_MPS3/Sample3_Pre',\n",
    "         '/Volumes/FAIR/Registered_MPS3/Sample3_Post',\n",
    "         '/Volumes/FAIR/Registered_MPS3/Sample4_Pre',\n",
    "         '/Volumes/FAIR/Registered_MPS3/tutorial3']\n",
    "\n",
    "# paths = ['/Volumes/FAIR/Registered_MPS3/ScanD',\n",
    "#          '/Volumes/FAIR/Registered_MPS3/ScanE',\n",
    "#          '/Volumes/FAIR/Registered_MPS3/ScanF',\n",
    "#          '/Volumes/FAIR/Registered_MPS3/ScanH',\n",
    "#          ]\n",
    "\n",
    "# for i in range(len(paths)):\n",
    "for i in range(14,15):\n",
    "    path = paths[i]\n",
    "    print( \"Reading directory:\", path)\n",
    "    file = os.path.split(os.path.split(path)[0])[1]\n",
    "    img = sitk.Cast(sitk.ReadImage(path+'/CT.nii.gz'), sitk.sitkFloat32)\n",
    "    size = img.GetSize()\n",
    "    spacing = img.GetSpacing()\n",
    "    dir_name = os.path.split(path)[0]\n",
    "\n",
    "    img_resampled = Iv.resample(img, new_size=[200, 200, 200])\n",
    "    array = sitk.GetArrayFromImage(img_resampled)\n",
    "    array[array<-100] = -1000\n",
    "    array[array==0] = -1000\n",
    "    img_resampled1 = sitk.GetImageFromArray(array)\n",
    "    img_resampled1.CopyInformation(img_resampled)\n",
    "    sitk.WriteImage(img_resampled1,path + '/' + 'CT_thin.nii.gz')\n",
    "    \n",
    "    #     Start skull stripping algorithm\n",
    "    pp = PreProcessor_Py3.PreProcessor()\n",
    "    img_orig_name =  path + '/CT_thin.nii.gz'\n",
    "    pp.open(img_orig_name)\n",
    "    pp.normalize()\n",
    "    pp.image = pp.skullStrippingCTBrain(useAtlas=False)\n",
    "    # pp.image = pp.skullStrippingCTHead()\n",
    "    mask_name = pp.writeExtendingFilename(extendingName=\"ThinBrain\", subDir=\"\")\n",
    "    \n",
    "    mask=sitk.ReadImage(mask_name)\n",
    "    mask_thick = Iv.resample_mask(mask,new_size=[400, 400, 60])\n",
    "    sitk.WriteImage(mask_thick,path+'/Brain.nii.gz')\n",
    "    Iv.display_image(pp.image)"
   ]
  },
  {
   "cell_type": "code",
   "execution_count": 53,
   "metadata": {},
   "outputs": [
    {
     "name": "stdout",
     "output_type": "stream",
     "text": [
      "Reading directory: /Volumes/FAIR/Registered_MPS3/tutorial3\n"
     ]
    }
   ],
   "source": [
    "# for i in range(len(paths)):\n",
    "for i in range(14,15):\n",
    "    path = paths[i]\n",
    "    print( \"Reading directory:\", path)\n",
    "    file = os.path.split(os.path.split(path)[0])[1]\n",
    "    img = sitk.Cast(sitk.ReadImage(path+'/CT.nii.gz'), sitk.sitkFloat32)\n",
    "    size = img.GetSize()\n",
    "    spacing = img.GetSpacing()\n",
    "    dir_name = os.path.split(path)[0]\n",
    "\n",
    "    array = sitk.GetArrayFromImage(img)\n",
    "    array[array<-100] = -1000\n",
    "    array[array==0] = -1000\n",
    "    img_resampled1 = sitk.GetImageFromArray(array)\n",
    "    img_resampled1.CopyInformation(img)\n",
    "    sitk.WriteImage(img_resampled1,path + '/' + 'CT.nii.gz')\n"
   ]
  },
  {
   "cell_type": "code",
   "execution_count": 38,
   "metadata": {},
   "outputs": [
    {
     "data": {
      "text/plain": [
       "array([], dtype=float32)"
      ]
     },
     "execution_count": 38,
     "metadata": {},
     "output_type": "execute_result"
    }
   ],
   "source": [
    "array[array==0]"
   ]
  },
  {
   "cell_type": "code",
   "execution_count": null,
   "metadata": {
    "collapsed": true
   },
   "outputs": [],
   "source": []
  }
 ],
 "metadata": {
  "kernelspec": {
   "display_name": "Python 3",
   "language": "python",
   "name": "python3"
  },
  "language_info": {
   "codemirror_mode": {
    "name": "ipython",
    "version": 3
   },
   "file_extension": ".py",
   "mimetype": "text/x-python",
   "name": "python",
   "nbconvert_exporter": "python",
   "pygments_lexer": "ipython3",
   "version": "3.6.2"
  }
 },
 "nbformat": 4,
 "nbformat_minor": 2
}
