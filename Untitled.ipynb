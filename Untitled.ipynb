{
 "cells": [
  {
   "cell_type": "code",
   "execution_count": 4,
   "metadata": {},
   "outputs": [
    {
     "ename": "SyntaxError",
     "evalue": "Missing parentheses in call to 'print' (core.py, line 261)",
     "output_type": "error",
     "traceback": [
      "Traceback \u001b[0;36m(most recent call last)\u001b[0m:\n",
      "  File \u001b[1;32m\"/anaconda/envs/mic3/lib/python3.6/site-packages/IPython/core/interactiveshell.py\"\u001b[0m, line \u001b[1;32m2862\u001b[0m, in \u001b[1;35mrun_code\u001b[0m\n    exec(code_obj, self.user_global_ns, self.user_ns)\n",
      "\u001b[0;36m  File \u001b[0;32m\"<ipython-input-4-5825fbfc7227>\"\u001b[0;36m, line \u001b[0;32m11\u001b[0;36m, in \u001b[0;35m<module>\u001b[0;36m\u001b[0m\n\u001b[0;31m    import core\u001b[0m\n",
      "\u001b[0;36m  File \u001b[0;32m\"/Volumes/FAIR/DC-Image-Analysis/DC-project-master/cleancode/core.py\"\u001b[0;36m, line \u001b[0;32m261\u001b[0m\n\u001b[0;31m    print '\\n','Using ellipses to find midplane','\\n'\u001b[0m\n\u001b[0m             ^\u001b[0m\n\u001b[0;31mSyntaxError\u001b[0m\u001b[0;31m:\u001b[0m Missing parentheses in call to 'print'\n"
     ]
    }
   ],
   "source": [
    "import matplotlib\n",
    "# matplotlib.use('TkAgg')\n",
    "import matplotlib.pyplot as plt\n",
    "# plt.ioff()\n",
    "import numpy as np\n",
    "%matplotlib inline\n",
    "\n",
    "import nibabel as nib\n",
    "from time import time\n",
    "import core\n",
    "import SimpleITK as sitk\n",
    "os.chdir('/Volumes/FAIR/DC-Image-Analysis/DC-project-master/cleancode/NewMidplane')\n",
    "import Functions\n",
    "\n",
    "import numpy as np\n",
    "import SimpleITK as sitk\n",
    "import matplotlib.pyplot as plt\n",
    "\n",
    "from scipy.ndimage.morphology import binary_opening as bo\n",
    "from scipy.ndimage.morphology import binary_erosion as be\n",
    "from scipy.ndimage.morphology import binary_closing as bc\n",
    "from scipy.ndimage.morphology import binary_fill_holes as bfh\n",
    "\n",
    "from ipywidgets import interact, fixed\n",
    "from IPython.display import display\n",
    "\n",
    "%matplotlib inline\n",
    "# Calculate parameters low and high from window and level\n",
    "def wl_to_lh(window, level):\n",
    "    low = level - window/2\n",
    "    high = level + window/2\n",
    "    return low,high\n",
    "\n"
   ]
  },
  {
   "cell_type": "code",
   "execution_count": null,
   "metadata": {
    "collapsed": true
   },
   "outputs": [],
   "source": [
    "paths =['/Users/fair00542/Desktop/TestImages/ScanF/1.3.12.2.1107.5.1.4.95198.30000015051507521609300034668.dcm',\n",
    "       '/Users/fair00542/Desktop/TestImages/ScanB/1.3.12.2.1107.5.1.4.51967.30000014110308064564000003663.dcm']\n",
    "\n",
    "\n",
    "for pathnumber in range(0,1):\n",
    "    path = paths[pathnumber]\n",
    "    print 'iteration number', pathnumber\n",
    "    if path.endswith('.nii') or path.endswith('.nii.gz'):\n",
    "        import core\n",
    "        array, ConstPixelSpacing, affine = core.nifti2np(path)\n",
    "\n",
    "    elif path.endswith('.dcm'):\n",
    "        import core\n",
    "        array, ConstPixelSpacing, origin, path, affine = core.dicom2np(path)\n",
    "\n",
    "    elif path.endswith('.nrrd'):\n",
    "        import core\n",
    "        array, ConstPixelSpacing, affine = core.nrrd2np(path)\n",
    "mask = core."
   ]
  }
 ],
 "metadata": {
  "kernelspec": {
   "display_name": "Python 3",
   "language": "python",
   "name": "python3"
  },
  "language_info": {
   "codemirror_mode": {
    "name": "ipython",
    "version": 3
   },
   "file_extension": ".py",
   "mimetype": "text/x-python",
   "name": "python",
   "nbconvert_exporter": "python",
   "pygments_lexer": "ipython3",
   "version": "3.6.2"
  }
 },
 "nbformat": 4,
 "nbformat_minor": 2
}
