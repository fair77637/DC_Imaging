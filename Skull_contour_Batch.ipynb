{
 "cells": [
  {
   "cell_type": "code",
   "execution_count": 4,
   "metadata": {
    "collapsed": true
   },
   "outputs": [],
   "source": [
    "import numpy as np\n",
    "import SimpleITK as sitk\n",
    "import matplotlib.pyplot as plt\n",
    "import os\n",
    "\n",
    "\n",
    "\n",
    "from ipywidgets import interact, fixed\n",
    "from IPython.display import display\n",
    "\n",
    "%matplotlib inline\n",
    "\n",
    "# Calculate parameters low and high from window and level\n",
    "def wl_to_lh(window, level):\n",
    "    low = level - window/2\n",
    "    high = level + window/2\n",
    "    return low,high\n",
    "\n",
    "def display_image(img, x=None, y=None, z=None, window=None, level=None):\n",
    "    # Convert SimpleITK image to NumPy array\n",
    "    img_array = sitk.GetArrayFromImage(img)\n",
    "    \n",
    "    # Get image dimensions in millimetres\n",
    "    size = img.GetSize()\n",
    "    spacing = img.GetSpacing()\n",
    "    width  = size[0] * spacing[0]\n",
    "    height = size[1] * spacing[1]\n",
    "    depth  = size[2] * spacing[2]\n",
    "    \n",
    "    if x is None:\n",
    "        x = np.floor(size[0]/2).astype(int)\n",
    "    if y is None:\n",
    "        y = np.floor(size[1]/2).astype(int)\n",
    "    if z is None:\n",
    "        z = np.floor(size[2]/2).astype(int)\n",
    "    \n",
    "    if window is None:\n",
    "        window = np.max(img_array) - np.min(img_array)\n",
    "    \n",
    "    if level is None:\n",
    "        level = window / 2 + np.min(img_array)\n",
    "    \n",
    "    low,high = wl_to_lh(window,level)\n",
    "\n",
    "    # Display the orthogonal slices\n",
    "    fig, (ax1, ax2, ax3) = plt.subplots(1, 3, figsize=(15, 5))\n",
    "\n",
    "    ax1.imshow(img_array[z,:,:], cmap='gray', clim=(low, high), extent=(0, width, height, 0))\n",
    "    ax2.imshow(img_array[:,y,:], origin='lower', cmap='gray', clim=(low, high), extent=(0, width,  0, depth))\n",
    "    ax3.imshow(img_array[:,:,x], origin='lower', cmap='gray', clim=(low, high), extent=(0, height, 0, depth))\n",
    "\n",
    "    # Additionally display crosshairs\n",
    "    ax1.axhline(y * spacing[1], lw=1)\n",
    "    ax1.axvline(x * spacing[0], lw=1)\n",
    "    \n",
    "    ax2.axhline(z * spacing[2], lw=1)\n",
    "    ax2.axvline(x * spacing[0], lw=1)\n",
    "    \n",
    "    ax3.axhline(z * spacing[2], lw=1)\n",
    "    ax3.axvline(y * spacing[1], lw=1)\n",
    "\n",
    "    plt.show()\n",
    "    \n",
    "def interactive_view(img):\n",
    "    size = img.GetSize() \n",
    "    img_array = sitk.GetArrayFromImage(img)\n",
    "    interact(display_image,img=fixed(img),\n",
    "             x=(0, size[0] - 1),\n",
    "             y=(0, size[1] - 1),\n",
    "             z=(0, size[2] - 1),\n",
    "             window=(0,np.max(img_array) - np.min(img_array)),\n",
    "             level=(np.min(img_array),np.max(img_array)));\n",
    "    \n",
    "def label_overlay(img, seg):\n",
    "    minmax = sitk.MinimumMaximumImageFilter()\n",
    "    minmax.Execute(img)\n",
    "    low, high = minmax.GetMinimum(), minmax.GetMaximum()\n",
    "    img_norm = (img - low) / (high - low)\n",
    "    img_uint8 = sitk.Cast(256 * img_norm, sitk.sitkUInt8)\n",
    "    return sitk.LabelOverlay(img_uint8, seg)\n",
    "\n",
    "def display_overlay(img, seg, *args, **kwargs):\n",
    "    display_image(label_overlay(img, seg), *args, **kwargs)\n",
    "    \n"
   ]
  },
  {
   "cell_type": "code",
   "execution_count": 95,
   "metadata": {},
   "outputs": [],
   "source": [
    "# paths = ['/Volumes/FAIR/Registered_MPS/MPS1/CT.nii.gz',\n",
    "#          '/Volumes/FAIR/Registered_MPS/MPS2/CT.nii.gz',\n",
    "#          '/Volumes/FAIR/Registered_MPS/MPS3/CT.nii.gz',\n",
    "#          '/Volumes/FAIR/Registered_MPS/MPS4/CT.nii.gz',\n",
    "#          '/Volumes/FAIR/Registered_MPS/MPS5/CT.nii.gz',\n",
    "#          '/Volumes/FAIR/Registered_MPS/MPS6/CT.nii.gz',\n",
    "#          '/Volumes/FAIR/Registered_MPS/MPS7/CT.nii.gz',\n",
    "#          '/Volumes/FAIR/Registered_MPS/MPS8/CT.nii.gz',\n",
    "#          '/Volumes/FAIR/Registered_MPS/MPS9/CT.nii.gz',\n",
    "#          '/Volumes/FAIR/Registered_MPS/MPS10/CT.nii.gz',\n",
    "#          '/Volumes/FAIR/Registered_MPS/MPS11/CT.nii.gz',\n",
    "#          '/Volumes/FAIR/Registered_MPS/MPS12/CT.nii.gz',\n",
    "#          '/Volumes/FAIR/Registered_MPS/MPS13/CT.nii.gz',\n",
    "#          '/Volumes/FAIR/Registered_MPS/MPS14/CT.nii.gz',\n",
    "#         ]\n",
    "\n",
    "\n",
    "paths = ['/Volumes/FAIR/Registered_MPS/SDH2/CT.nii.gz',\n",
    "         '/Volumes/FAIR/Registered_MPS/SDH4/CT.nii.gz',\n",
    "         '/Volumes/FAIR/Registered_MPS/SDH7/CT.nii.gz',\n",
    "         '/Volumes/FAIR/Registered_MPS/SDH8/CT.nii.gz',\n",
    "         '/Volumes/FAIR/Registered_MPS/SDH9/CT.nii.gz',\n",
    "         '/Volumes/FAIR/Registered_MPS/SDH11/CT.nii.gz',\n",
    "         '/Volumes/FAIR/Registered_MPS/SDH12/CT.nii.gz',\n",
    "        '/Volumes/FAIR/Registered_MPS/SDH14/CT.nii.gz',\n",
    "        '/Volumes/FAIR/Registered_MPS/SDH16-2/CT.nii.gz',\n",
    "        '/Volumes/FAIR/Registered_MPS/SDH24/CT.nii.gz',\n",
    "         '/Volumes/FAIR/Registered_MPS/CONT4/CT.nii.gz',\n",
    "         '/Volumes/FAIR/Registered_MPS/CONT5/CT.nii.gz',\n",
    "         '/Volumes/FAIR/Registered_MPS/CONT7/CT.nii.gz',\n",
    "        '/Volumes/FAIR/Registered_MPS/EDH7/CT.nii.gz',\n",
    "        '/Volumes/FAIR/Registered_MPS/Sample3-Pre/CT.nii.gz',\n",
    "        '/Volumes/FAIR/Registered_MPS/Sample3-Post/S3_Post-op.nrrd',\n",
    "        '/Volumes/FAIR/Registered_MPS/Sample4-Pre/S4_Pre-op.nrrd',\n",
    "        '/Volumes/FAIR/Registered_MPS/tutorial3/CT.nii.gz']\n",
    "\n",
    "# for i in range(len(paths)):\n",
    "for i in range(0,len(paths)):\n",
    "    path = paths[i]\n",
    "    # We convert it to `float32` for compatibility with some functions we'll use later\n",
    "    img = sitk.Cast(sitk.ReadImage(path), sitk.sitkFloat32)\n",
    "#     display_image(img,window=120,level=40)\n",
    "    img_gauss = sitk.DiscreteGaussian(img, variance=1)\n",
    "    # display_image(img_gauss,window=120,level=40)\n",
    "    seg = (img > 500)\n",
    "#     display_overlay(img, seg)\n",
    "    seg_array = sitk.GetArrayFromImage(seg)\n",
    "    mp = sitk.ReadImage(os.path.split(path)[0] + '/Midplane_Q.nii.gz')\n",
    "    mp_array = sitk.GetArrayFromImage(mp)\n",
    "    Skull_contour = np.multiply(mp_array,seg_array)\n",
    "    Skull_contour1 = sitk.GetImageFromArray(Skull_contour)\n",
    "    Skull_contour1.CopyInformation(img)\n",
    "    sitk.WriteImage(Skull_contour1, os.path.split(path)[0] + '/Skull_contour.nii.gz')"
   ]
  },
  {
   "cell_type": "markdown",
   "metadata": {},
   "source": [
    "## resect CT volume"
   ]
  },
  {
   "cell_type": "code",
   "execution_count": 96,
   "metadata": {
    "collapsed": true
   },
   "outputs": [],
   "source": [
    "path = '/Volumes/FAIR/Registered_MPS/SDH8/segmentation.nii.gz'\n",
    "img = sitk.Cast(sitk.ReadImage(path), sitk.sitkFloat32)\n",
    "img_array = sitk.GetArrayFromImage(img)"
   ]
  },
  {
   "cell_type": "code",
   "execution_count": 97,
   "metadata": {
    "collapsed": true
   },
   "outputs": [],
   "source": [
    "img_array1 = np.zeros(img_array.shape) "
   ]
  },
  {
   "cell_type": "code",
   "execution_count": 98,
   "metadata": {},
   "outputs": [],
   "source": [
    "img_array1[4:42,:,:] = img_array[9:,:,:]"
   ]
  },
  {
   "cell_type": "code",
   "execution_count": 99,
   "metadata": {},
   "outputs": [],
   "source": [
    "img_ = sitk.GetImageFromArray(img_array1)\n",
    "img_.CopyInformation(img)\n"
   ]
  },
  {
   "cell_type": "code",
   "execution_count": 100,
   "metadata": {},
   "outputs": [
    {
     "data": {
      "image/png": "[encoded data removed]",
      "text/plain": [
       "<matplotlib.figure.Figure at 0x123235c88>"
      ]
     },
     "metadata": {},
     "output_type": "display_data"
    }
   ],
   "source": [
    "display_image(img_)"
   ]
  },
  {
   "cell_type": "code",
   "execution_count": 101,
   "metadata": {
    "collapsed": true
   },
   "outputs": [],
   "source": [
    "sitk.WriteImage(img_, os.path.split(path)[0] + '/segmentation.nii.gz')"
   ]
  },
  {
   "cell_type": "code",
   "execution_count": null,
   "metadata": {
    "collapsed": true
   },
   "outputs": [],
   "source": []
  }
 ],
 "metadata": {
  "kernelspec": {
   "display_name": "Python 3",
   "language": "python",
   "name": "python3"
  },
  "language_info": {
   "codemirror_mode": {
    "name": "ipython",
    "version": 3
   },
   "file_extension": ".py",
   "mimetype": "text/x-python",
   "name": "python",
   "nbconvert_exporter": "python",
   "pygments_lexer": "ipython3",
   "version": "3.6.2"
  }
 },
 "nbformat": 4,
 "nbformat_minor": 2
}
